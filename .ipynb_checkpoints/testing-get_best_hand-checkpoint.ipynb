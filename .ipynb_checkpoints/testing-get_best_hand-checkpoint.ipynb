{
 "cells": [
  {
   "cell_type": "code",
   "execution_count": 16,
   "id": "cf4a0324-93f2-4466-91e1-4ce38bf3747b",
   "metadata": {},
   "outputs": [],
   "source": [
    "import cards\n",
    "\n",
    "from importlib import reload\n",
    "reload(cards)\n",
    "\n",
    "from cards import Card, Hand"
   ]
  },
  {
   "cell_type": "code",
   "execution_count": null,
   "id": "0657f7f0-757b-4c7f-a001-9587c03952cd",
   "metadata": {},
   "outputs": [],
   "source": []
  },
  {
   "cell_type": "markdown",
   "id": "ca360cf9-10c9-43b5-a528-8561040ade0d",
   "metadata": {},
   "source": [
    "### Testing Hand.get_best_hand() and related methods\n",
    "- __validate_input()"
   ]
  },
  {
   "cell_type": "code",
   "execution_count": 29,
   "id": "9a193084-d9d3-4fd4-83e3-861423c957ef",
   "metadata": {},
   "outputs": [],
   "source": [
    "h = Hand([Card(face ='Ace' , suit = 'Clubs'),\n",
    "          Card(face ='Ace' , suit = 'hearts'),\n",
    "          Card(face ='5' , suit = 'Clubs'),\n",
    "          Card(face ='6' , suit = 'Clubs'),\n",
    "          Card(face ='2' , suit = 'Clubs'),\n",
    "          Card(face ='10' , suit = 'Clubs'),\n",
    "          Card(face ='Jack' , suit = 'Clubs'),\n",
    "            ])"
   ]
  },
  {
   "cell_type": "markdown",
   "id": "85dfb422-413c-456e-97e2-14d43df11883",
   "metadata": {},
   "source": [
    "- get_high_card()"
   ]
  },
  {
   "cell_type": "code",
   "execution_count": 18,
   "id": "050cdac1-f0fd-4588-a4f0-0bd45b602f0c",
   "metadata": {},
   "outputs": [],
   "source": [
    "h = Hand([Card(face ='Ace' , suit = 'Clubs'),\n",
    "          Card(face ='3' , suit = 'Clubs'),\n",
    "          Card(face ='5' , suit = 'Clubs'),\n",
    "          Card(face ='6' , suit = 'Clubs'),\n",
    "          Card(face ='2' , suit = 'Clubs'),\n",
    "          Card(face ='10' , suit = 'Clubs'),\n",
    "          Card(face ='Jack' , suit = 'Clubs'),\n",
    "            ])"
   ]
  },
  {
   "cell_type": "code",
   "execution_count": 19,
   "id": "704dc978-e27c-40f3-96eb-39489d9b4e94",
   "metadata": {},
   "outputs": [
    {
     "data": {
      "text/plain": [
       "(11,)"
      ]
     },
     "execution_count": 19,
     "metadata": {},
     "output_type": "execute_result"
    }
   ],
   "source": [
    "h.get_high_card()"
   ]
  },
  {
   "cell_type": "markdown",
   "id": "9acb216a-835e-4c4f-907d-22bc5d61af42",
   "metadata": {},
   "source": [
    "- get_pairs()"
   ]
  },
  {
   "cell_type": "code",
   "execution_count": 28,
   "id": "c7b8c1e7-5024-4bbe-b2bf-9c04b2cab9b4",
   "metadata": {},
   "outputs": [],
   "source": [
    "# one pair\n",
    "h = Hand([Card(face ='Ace' , suit = 'Clubs'),\n",
    "          Card(face ='3' , suit = 'Clubs'),\n",
    "          Card(face ='3' , suit = 'spades'),\n",
    "          Card(face ='6' , suit = 'Clubs'),\n",
    "          Card(face ='2' , suit = 'Clubs'),\n",
    "          Card(face ='10' , suit = 'Clubs'),\n",
    "          Card(face ='Jack' , suit = 'Clubs'),\n",
    "            ])"
   ]
  },
  {
   "cell_type": "code",
   "execution_count": 21,
   "id": "94ce2847-7b74-4835-b87d-35dcb576ca31",
   "metadata": {},
   "outputs": [
    {
     "data": {
      "text/plain": [
       "(None,)"
      ]
     },
     "execution_count": 21,
     "metadata": {},
     "output_type": "execute_result"
    }
   ],
   "source": [
    "h.get_pairs()"
   ]
  },
  {
   "cell_type": "code",
   "execution_count": 22,
   "id": "bcb855f8-d5dd-4526-9dcf-3131c4131825",
   "metadata": {},
   "outputs": [],
   "source": [
    "# multiple pairs\n",
    "h = Hand([Card(face ='Ace' , suit = 'Clubs'),\n",
    "          Card(face ='3' , suit = 'Clubs'),\n",
    "          Card(face ='3' , suit = 'hearts'),\n",
    "          Card(face ='6' , suit = 'Clubs'),\n",
    "          Card(face ='6' , suit = 'hearts'),\n",
    "          Card(face ='10' , suit = 'Clubs'),\n",
    "          Card(face ='Jack' , suit = 'Clubs'),\n",
    "            ])"
   ]
  },
  {
   "cell_type": "code",
   "execution_count": 23,
   "id": "2116cc55-0d3f-48ea-95c8-42b0dce81e79",
   "metadata": {},
   "outputs": [
    {
     "data": {
      "text/plain": [
       "([3, 6],)"
      ]
     },
     "execution_count": 23,
     "metadata": {},
     "output_type": "execute_result"
    }
   ],
   "source": [
    "h.get_pairs()"
   ]
  },
  {
   "cell_type": "markdown",
   "id": "3b8c1f30-d7b3-4462-8821-d5846c124985",
   "metadata": {},
   "source": [
    "- get_triples()"
   ]
  },
  {
   "cell_type": "code",
   "execution_count": 24,
   "id": "a56372df-244a-460c-91ca-3166168d27d6",
   "metadata": {},
   "outputs": [],
   "source": [
    "# single triple\n",
    "h = Hand([Card(face ='Ace' , suit = 'Clubs'),\n",
    "          Card(face ='3' , suit = 'Clubs'),\n",
    "          Card(face ='3' , suit = 'hearts'),\n",
    "          Card(face ='3' , suit = 'spades'),\n",
    "          Card(face ='2' , suit = 'Clubs'),\n",
    "          Card(face ='10' , suit = 'Clubs'),\n",
    "          Card(face ='Jack' , suit = 'Clubs'),\n",
    "            ])"
   ]
  },
  {
   "cell_type": "code",
   "execution_count": 25,
   "id": "4fa9cfad-e078-4eda-bf56-217e70a81233",
   "metadata": {},
   "outputs": [
    {
     "data": {
      "text/plain": [
       "([3],)"
      ]
     },
     "execution_count": 25,
     "metadata": {},
     "output_type": "execute_result"
    }
   ],
   "source": [
    "h.get_triples()"
   ]
  },
  {
   "cell_type": "code",
   "execution_count": 30,
   "id": "e6a77cc2-945d-4a04-9991-e170f50def6c",
   "metadata": {},
   "outputs": [],
   "source": [
    "# multiple triples\n",
    "h = Hand([Card(face ='Ace' , suit = 'Clubs'),\n",
    "          Card(face ='3' , suit = 'hearts'),\n",
    "          Card(face ='3' , suit = 'Clubs'),\n",
    "          Card(face ='3' , suit = 'spades'),\n",
    "          Card(face ='10' , suit = 'Clubs'),\n",
    "          Card(face ='10' , suit = 'hearts'),\n",
    "          Card(face ='10' , suit = 'spades'),\n",
    "            ])"
   ]
  },
  {
   "cell_type": "code",
   "execution_count": 27,
   "id": "03d28c90-ca38-45da-93ea-6be16ba626f8",
   "metadata": {},
   "outputs": [
    {
     "data": {
      "text/plain": [
       "([3],)"
      ]
     },
     "execution_count": 27,
     "metadata": {},
     "output_type": "execute_result"
    }
   ],
   "source": [
    "h.get_triples()"
   ]
  },
  {
   "cell_type": "markdown",
   "id": "27b0ba9b-9615-455d-a191-cdcda018e3cd",
   "metadata": {},
   "source": [
    "- get_straight()"
   ]
  },
  {
   "cell_type": "code",
   "execution_count": 14,
   "id": "2d217223-fbbd-4871-865a-9c05078b0652",
   "metadata": {},
   "outputs": [],
   "source": [
    "# \n",
    "h = Hand([Card(face ='Ace' , suit = 'Clubs'),\n",
    "          Card(face ='6' , suit = 'Clubs'),\n",
    "          Card(face ='3' , suit = 'Clubs'),\n",
    "          Card(face ='4' , suit = 'Clubs'),\n",
    "          Card(face ='5' , suit = 'Clubs'),\n",
    "          Card(face ='2' , suit = 'hearts'),\n",
    "          Card(face ='7' , suit = 'spades'),\n",
    "            ])"
   ]
  },
  {
   "cell_type": "code",
   "execution_count": 15,
   "id": "38bf21cc-68bf-4425-9be5-97574371fed7",
   "metadata": {},
   "outputs": [
    {
     "data": {
      "text/plain": [
       "(7,)"
      ]
     },
     "execution_count": 15,
     "metadata": {},
     "output_type": "execute_result"
    }
   ],
   "source": [
    "h.get_straight()"
   ]
  },
  {
   "cell_type": "markdown",
   "id": "30b5278d-50ba-400e-b04c-362819e6db38",
   "metadata": {},
   "source": [
    "- get_flush()"
   ]
  },
  {
   "cell_type": "code",
   "execution_count": 31,
   "id": "dca16fb0-f86d-4516-bca2-ff3bbbca1ee0",
   "metadata": {},
   "outputs": [],
   "source": [
    "# no flush\n",
    "h = Hand([Card(face ='Ace' , suit = 'spades'),\n",
    "          Card(face ='3' , suit = 'hearts'),\n",
    "          Card(face ='5' , suit = 'Clubs'),\n",
    "          Card(face ='6' , suit = 'Clubs'),\n",
    "          Card(face ='2' , suit = 'Clubs'),\n",
    "          Card(face ='10' , suit = 'hearts'),\n",
    "          Card(face ='Jack' , suit = 'hearts'),\n",
    "            ])"
   ]
  },
  {
   "cell_type": "code",
   "execution_count": 32,
   "id": "2b7e6d50-e8f5-4a7d-a7ab-9c46f95ad183",
   "metadata": {},
   "outputs": [
    {
     "data": {
      "text/plain": [
       "(None, None)"
      ]
     },
     "execution_count": 32,
     "metadata": {},
     "output_type": "execute_result"
    }
   ],
   "source": [
    "h.get_flush()"
   ]
  },
  {
   "cell_type": "markdown",
   "id": "732e5b43-9ab9-45b3-8513-d29eb85e1a6c",
   "metadata": {},
   "source": [
    "- get_quadruples"
   ]
  },
  {
   "cell_type": "code",
   "execution_count": 33,
   "id": "f10ce40a-dbfe-43df-b6b5-22642aec3ce8",
   "metadata": {},
   "outputs": [],
   "source": [
    "h = Hand([Card(face ='Ace' , suit = 'spades'),\n",
    "          Card(face ='Ace' , suit = 'hearts'),\n",
    "          Card(face ='Ace' , suit = 'Clubs'),\n",
    "          Card(face ='Ace' , suit = 'diamonds'),\n",
    "          Card(face ='2' , suit = 'Clubs'),\n",
    "          Card(face ='10' , suit = 'hearts'),\n",
    "          Card(face ='Jack' , suit = 'hearts'),\n",
    "            ])"
   ]
  },
  {
   "cell_type": "code",
   "execution_count": 34,
   "id": "96d66f57-489f-4ab1-a27d-4e4175b754e5",
   "metadata": {},
   "outputs": [
    {
     "data": {
      "text/plain": [
       "([1],)"
      ]
     },
     "execution_count": 34,
     "metadata": {},
     "output_type": "execute_result"
    }
   ],
   "source": [
    "h.get_quadruples()"
   ]
  },
  {
   "cell_type": "markdown",
   "id": "8fe8b8f0-57b0-4d29-b462-fa24517d2ceb",
   "metadata": {},
   "source": [
    "- get_straight_flush()"
   ]
  },
  {
   "cell_type": "code",
   "execution_count": null,
   "id": "6c8995b5-9595-4960-9f3e-9509c69d66d0",
   "metadata": {},
   "outputs": [],
   "source": []
  }
 ],
 "metadata": {
  "kernelspec": {
   "display_name": "Python 3 (ipykernel)",
   "language": "python",
   "name": "python3"
  },
  "language_info": {
   "codemirror_mode": {
    "name": "ipython",
    "version": 3
   },
   "file_extension": ".py",
   "mimetype": "text/x-python",
   "name": "python",
   "nbconvert_exporter": "python",
   "pygments_lexer": "ipython3",
   "version": "3.9.13"
  }
 },
 "nbformat": 4,
 "nbformat_minor": 5
}
